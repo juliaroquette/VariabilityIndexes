{
 "cells": [
  {
   "cell_type": "markdown",
   "metadata": {},
   "source": [
    "## Asymmetry and Periodicity Metrics\n",
    "\n",
    "Last update: 19 Jan 2024\n",
    "\n",
    "**@juliaroquette:** This notebook concentrates research-notes related to the implementation of a Python code for calculating Asymmetry and Periodicity indexes. These variability-indexes have been first introduced by [Cody+2014](https://iopscience.iop.org/article/10.1088/0004-6256/147/4/82) and are used to quantify the degree of symmetry/asymmetry and of stochasticity/periodicity in light-curves of Young Stellar Objects (YSOs). Once calculated for a given light-curve, these indexes can be used to place the star in a QM-diagram (see figure below), threshold of the two indexes can be used for classification purposes and certain regions of the diagram can be associated to physical mechanisms behind the variability processes being observed. The two indexes can also be used as feature in Machine-Learning applications. \n",
    "\n",
    "![QM-space](https://content.cld.iop.org/journals/1538-3881/147/4/82/revision1/aj492147f8_lr.jpg?Expires=1706211409&Signature=ANR2FKG9Mg75LFi2fPfpVfgdKx~z8PajoShKj1l2AKeQaS7K1f2u3SWXaGa4LqunH6og1RjPtGO2lkWOexBJAJEiG64j0h4wd~ixyYf4Nr8VwQk9l9DquV~T277Ff99jEl87zgYt4EXKxq3c5OINEYj99cAAlSblw63r7gNldAk9YQfN3Pb5rOvuKHUYMaksjOP4g3t5ng2UYMFf5R7-McYdvieaI03opfv0aillqBaJ1uSQUjXZGnxbci11Y32e8YdPKemi3PETyYhNtBSFesHEfMU889heezzxGduj44fxEBpEa3dt1ishRlUjaw2tdH7XTJSc2E6VBbZDxNJShw__&Key-Pair-Id=KL1D8TIY3N7T8)\n",
    "\n",
    "\n",
    "**References:** \n",
    "\n",
    "Main previous studies applying the metrics to large samples of YSOs:\n",
    "- `C14`: [Cody+2014](https://iopscience.iop.org/article/10.1088/0004-6256/147/4/82)\n",
    "- `C18`: [Cody+2018](https://iopscience.iop.org/article/10.3847/1538-3881/aacead)\n",
    "- `B20`: [Bredall+2020](https://doi.org/10.1093%2Fmnras%2Fstaa1588)\n",
    "- `C22`: [Cody+2022](https://iopscience.iop.org/article/10.3847/1538-3881/ac5b73)\n",
    "- `H22`: [Hillenbrand+2022](https://iopscience.iop.org/article/10.3847/1538-3881/ac62d8)\n",
    "\n",
    "# Light-Curve\n",
    "\n",
    "A light-curve is written as a series of measurements $m$ with uncertainties $\\sigma$ as a function of time, $t$:\n",
    "\n",
    "- $m_i$ and $\\sigma_i$ are magnitudes and their uncertainties at the time $t_i$. \n",
    "- Alternatively the light-curve can be written in terms of fluxes $f_i$ and their uncertainties. "
   ]
  },
  {
   "cell_type": "code",
   "execution_count": null,
   "metadata": {},
   "outputs": [],
   "source": [
    "import numpy as np\n",
    "import matplotlib.pyplot as plt"
   ]
  },
  {
   "cell_type": "code",
   "execution_count": null,
   "metadata": {},
   "outputs": [],
   "source": [
    "N = 100\n",
    "time = np.linspace(0, 50, N)\n",
    "mag = np.sin(2*np.pi*time/10.) + np.random.random_sample(N)*.5\n",
    "err =  0.001*np.random.random_sample(N)"
   ]
  },
  {
   "cell_type": "code",
   "execution_count": null,
   "metadata": {
    "scrolled": true
   },
   "outputs": [],
   "source": [
    "plt.errorbar(time, mag, err, fmt='o', color='black', capsize=3)"
   ]
  },
  {
   "cell_type": "markdown",
   "metadata": {},
   "source": [
    "# Synthetic Models\n",
    "\n",
    "In this section, we explore various synthetic models designed to mimic observed light curves. The following types of models are considered:\n",
    "\n",
    "- **Quasi-Periodic Light Curves:** Quasi periodic refers to light curves whose amplitude is a function of time. Our model draws a random amplitude from a Gaussian distribution at each time step.\n",
    "\n",
    "- **Multi-Periodic Light Curves:** Light curves with a primary period around 5 days, and a longer secondary period around 20 days\n",
    "\n",
    "- **Aperiodic Dippers:** Models falling under this category exhibit aperiodic behavior, adding diversity to the synthetic light curves.\n"
   ]
  },
  {
   "cell_type": "code",
   "execution_count": null,
   "metadata": {},
   "outputs": [],
   "source": [
    "#Quasi periodic light curves\n",
    "\n",
    "def quasi_per_amp(time, std, amp = 1, frequency = 1/10):\n",
    "    '''\n",
    "    Generates a lc with amplitude changing over time. For each time step, the amplitude is drawn from a Gaussian distribution\n",
    "\n",
    "    Args :\n",
    "        time : light curve time array\n",
    "        std : std of Gaussian\n",
    "\n",
    "    returns :\n",
    "        mag\n",
    "    '''\n",
    "\n",
    "        \n",
    "    random_steps     = np.random.normal(0, std, len(time))            \n",
    "    amp_t            = np.cumsum(random_steps) + amp\n",
    "    mag_qp           = amp_t * np.sin(2 * np.pi * frequency * (time - min(time))) + \\\n",
    "                       np.random.normal(0, 0.05, len(time))\n",
    "\n",
    "    return mag_qp"
   ]
  },
  {
   "cell_type": "code",
   "execution_count": null,
   "metadata": {},
   "outputs": [],
   "source": [
    "mag_qp = quasi_per_amp(time, 0.03)\n",
    "plt.errorbar(time, mag_qp, err, fmt='o', color='black', capsize=3)"
   ]
  },
  {
   "cell_type": "code",
   "execution_count": null,
   "metadata": {},
   "outputs": [],
   "source": [
    "#Multi periodic light curves\n",
    "def multiperiodic(time, frequency = 1/5, frequency_long = 1/40, amp = 1, amp2 = 0.2):\n",
    "        noise             = np.random.normal(0, 0.03, len(time))\n",
    "        mag_mp            = amp * np.sin(2 * np.pi * frequency * (time - min(time))) + \\\n",
    "                            amp2 * np.sin(2 * np.pi * frequency_long * (time - min(time))) + \\\n",
    "                            noise\n",
    "        return mag_mp"
   ]
  },
  {
   "cell_type": "code",
   "execution_count": null,
   "metadata": {
    "scrolled": true
   },
   "outputs": [],
   "source": [
    "mag_mp = multiperiodic(time)\n",
    "plt.errorbar(time, mag_mp, err, fmt='o', color='black', capsize=3)"
   ]
  },
  {
   "cell_type": "code",
   "execution_count": null,
   "metadata": {},
   "outputs": [],
   "source": [
    "#aperiodic dippers\n",
    "\n",
    "def apd(time, num_dips, dip_depth_range, dip_width_range, amp = 1):\n",
    "        \"\"\"\n",
    "        Generate a synthetic light curve with aperiodic dips. Amplitude of the curve is based on self.amp\n",
    "        Based on a random walk.\n",
    "        \"\"\"\n",
    "    \n",
    "        rand_walk = np.cumsum(np.random.randn(len(time)))\n",
    "\n",
    "        for _ in range(num_dips):\n",
    "            dip_position = np.random.randint(0, len(time))\n",
    "            dip_depth    = np.random.uniform(*dip_depth_range)\n",
    "            dip_width    = np.random.uniform(*dip_width_range)\n",
    "\n",
    "            gaussian_peak = dip_depth * np.exp(-((time - dip_position) / (dip_width / 2))**2)\n",
    "            rand_walk    -= gaussian_peak\n",
    "\n",
    "        # Normalize rand_walk to have a peak-to-peak amplitude of 1\n",
    "        normalized_rand_walk = (rand_walk - np.min(rand_walk)) / (np.max(rand_walk) - np.min(rand_walk))\n",
    "\n",
    "        # Scale with self.amp and add self.med_mag\n",
    "        mag_apd = normalized_rand_walk * amp\n",
    "        \n",
    "        return mag_apd"
   ]
  },
  {
   "cell_type": "code",
   "execution_count": null,
   "metadata": {},
   "outputs": [],
   "source": [
    "dips          = 3\n",
    "depth_range   = (0.3, 1)\n",
    "width_range   = (0.5, 2.5)\n",
    "\n",
    "mag_apd = apd(time, dips, depth_range, width_range)\n",
    "plt.errorbar(time, mag_apd, err, fmt='o', color='black', capsize=3)"
   ]
  },
  {
   "cell_type": "markdown",
   "metadata": {},
   "source": [
    "# Filter the light curve\n",
    "\n",
    "2 steps are considered :\n",
    "\n",
    "- **Remove longtrends** : Savitzky-Golay filter with window size of 25% the lc duration\n",
    "- **Remove outliers** : 5 sigma clip"
   ]
  },
  {
   "cell_type": "code",
   "execution_count": null,
   "metadata": {},
   "outputs": [],
   "source": [
    "from scipy.signal import savgol_filter\n",
    "\n",
    "def remove_longtrend(time, mag) :\n",
    "        \n",
    "        ws =  int(0.25*len(mag))\n",
    "\n",
    "        mag_filt = savgol_filter(mag, ws, 3)\n",
    "        mag_filt = mag - mag_filt + np.median(mag)\n",
    "        return mag_filt"
   ]
  },
  {
   "cell_type": "code",
   "execution_count": null,
   "metadata": {},
   "outputs": [],
   "source": [
    "time2 = np.linspace(0, 60, 500)\n",
    "mag_mp2 = multiperiodic(time2)\n",
    "\n",
    "mag_filt = remove_longtrend(time2, mag_mp2)\n",
    "\n",
    "plt.scatter(time2, mag_mp2,  color='black', label = 'original lc')\n",
    "plt.scatter(time2, mag_filt, color='red',   label = 'with filtering')\n",
    "plt.legend()"
   ]
  },
  {
   "cell_type": "markdown",
   "metadata": {},
   "source": [
    "# M- index: Asymmetry\n",
    "\n",
    "**Context**: Metrics that measures the level of assymetry in the light-curve.\n",
    "\n",
    "$$M=\\frac{<m_{10\\%}>-m_{med}}{\\sigma_m}$$\n",
    "\n",
    "where:\n",
    "- $<m_{10\\%}>$ is all the data in the top and bottom decile of the light-curve. \n",
    "- $\\sigma_m$ is the light-curve's standard deviation\n",
    "\n",
    "This definition sets predominantly brightening light-curves with $M < 0$ and predominantly dimming  with $M > 0$.\n",
    "\n",
    "When using fluxes, one must add a $-1\\times$ to $M$'s definition to preserve the dimming/brightening signal definition. \n",
    "\n",
    "**Note on filtering**: Light-curves must be appropriately pre-filtered. See section on this subject below. \n",
    "\n",
    "**Literature definition variations**\n",
    "\n",
    "- $\\sigma_m$ is sometimes the overall rms (`C14`) of the light-curve and sometimes its standard-deviation (`H22`, `B20`).\n",
    "- Use of deciles: `C18` reports the use of 5/95 percentiles rather than deciles. However, Ann Marie Cody told us in private communication that this might be a typo in the paper as her code `C22` is using 10/90. "
   ]
  },
  {
   "cell_type": "code",
   "execution_count": null,
   "metadata": {},
   "outputs": [],
   "source": [
    "def M_index(mag, per_up=90., per_down=10., is_flux=False):\n",
    "    \"\"\"\n",
    "    Calculate the M-index, which measures the level of asymmetry in the light-curve.\n",
    "    \n",
    "    Parameters:\n",
    "    - mag: array-like, magnitudes of the light-curve\n",
    "    - per_up: float, upper percentile for selecting data in the top decile\n",
    "    - per_down: float, lower percentile for selecting data in the bottom decile\n",
    "    - is_flux: bool, indicates whether the input is flux or magnitude\n",
    "    \n",
    "    Returns:\n",
    "    - M-index: float, the calculated M-index value\n",
    "    \n",
    "    \"\"\"\n",
    "    if bool(is_flux):\n",
    "        to_flux = -1\n",
    "    else:\n",
    "        to_flux = 1\n",
    "    return to_flux*(np.mean(mag[(mag <= np.percentile(mag, per_down)) | (mag >= np.percentile(mag, per_up))]) - np.median(mag))/np.std(mag)"
   ]
  },
  {
   "cell_type": "markdown",
   "metadata": {},
   "source": [
    "# Q-index: Periodicity\n",
    "\n",
    "**Context**: Metrics that measures the degree of periodicity in the light-curve. \n",
    "\n",
    "$Q = \\frac{\\sigma_\\mathrm{res}^2-\\sigma_\\mathrm{phot}^2}{\\sigma^2_\\mathrm{raw}-\\sigma^2_\\mathrm{phot}}$, \n",
    "\n",
    "where:\n",
    "- $\\sigma_\\mathrm{res}^2$ and $\\sigma^2_\\mathrm{raw}$ are the variance values of the raw light curve and the phase-subtracted light curve.\n",
    "- $\\sigma_\\mathrm{raw}^2$ is the variance of the original light-curve\n",
    "- $\\sigma_\\mathrm{phot}$ is the mean photometric error"
   ]
  },
  {
   "cell_type": "code",
   "execution_count": null,
   "metadata": {},
   "outputs": [],
   "source": [
    "def Q_index(mag_phased, residual_mag, err_phased):\n",
    "        \"\"\"\n",
    "        Calculates the Q-index which measures the level of periodicity in the light-curve.\n",
    "\n",
    "        Parameters:\n",
    "        mag_phased (array-like): Array of phase-folded magnitudes for the \"raw\" light-curve.\n",
    "        residual_mag (array-like): Array of phase-folded residual magnitudes after waveform-subtraction\n",
    "        err_phased (array-like): Array of errors for the phase-folded light-curve.\n",
    "\n",
    "        Returns:\n",
    "        - Q-index float: The calculated Q-index.\n",
    "\n",
    "        \"\"\"\n",
    "        return (np.std(residual_mag)**2 - np.mean(err_phased)**2)/(np.std(mag_phased)**2 - np.mean(err_phased)**2)"
   ]
  },
  {
   "cell_type": "markdown",
   "metadata": {},
   "source": [
    "Before plugging-in values in Q, a few extra steps are required:\n",
    "\n",
    "1. Definition of $m_{raw}$: This is the original \"raw\" light-curve. This light-curve is called raw, but it has been already filtered for any needs deemed necessary by authors as pre-filtering before a period-search technique is applied. There is a lot of variation in what this filtering entails, hence see Filtering section below. Typical filtering will include $5-\\sigma$-clipping and de-trending for variability at longer timescales than resolved by the light-curve. For high-cadence light-curves filtering may also include a short-timescale filtering that helps focusing the period-search step.\n",
    "2. $\\sigma_\\mathrm{raw}^2$ is the variance of the light-curve in 1. \n",
    "3. $\\sigma_\\mathrm{phot}$ is the typical photometric error in the light-curve. In general, this is a simple average of the uncertainties in the light-curve, considering the $\\sigma_i$s of all datapoints left in the filtered light-curve in step 1. However, a few studies derive a typical uncertainty value by looking at rms vs magnitude distributions for samples of less-variable stars in their survey (`C14`, `C18`, `C22`). This seems to be more common for CoRoT and K2 data though. \n",
    "4. Residual light-curve: This is the most important step for calculating Q. \n",
    "\n",
    "    4.1 A period-search technique is applied to $m_{raw}$ to find the dominant period, P. When no period is found, a \"aperiodic timescale\" must be defined instead. (see further discussion in the session below.)\n",
    "\n",
    "    4.2 $m_{raw}$ is phase-folded to this period or timescale and some filtering is used to estimate a phase-folded waveform. (See Waveform estimation Section below)\n",
    "\n",
    "    4.3 A residual light-curve, $m_{res}$ is defined by subtracting the waveform from the folded $m_{raw}$. A few authors do this by repeating the waveform over the length of the light-curve, but I don't think it makes a difference in the final $\\sigma_\\mathrm{res}$ to estimate it from the folded or from the regular light-curve. \n",
    "\n",
    "    4.4 $\\sigma_\\mathrm{res}$ is calculated from the residual light-curve ($m_{res}$)"
   ]
  },
  {
   "cell_type": "markdown",
   "metadata": {},
   "source": [
    "# Waveform estimation\n",
    "\n",
    "Once the light curve is phase folded on the period, data has to be interpolated with a waveform. Different methods can be used for this step :\n",
    "\n",
    "- Rolling average\n",
    "- Median filter\n",
    "- Savitsky Golay filter\n",
    "\n",
    "The following section shows the different waveforms that can be derived from a multiperiodic light curve. Apart from the method, the window size is also important. Usually, it is taken between 10 and 15% of the phase."
   ]
  },
  {
   "cell_type": "code",
   "execution_count": null,
   "metadata": {},
   "outputs": [],
   "source": [
    "import pandas       as pd\n",
    "from   scipy.signal import medfilt\n",
    "\n",
    "length       = len(time)\n",
    "window_sizes = [int(0.05 * length), int(0.21 * length)]\n",
    "\n",
    "#Phase fold the light curve\n",
    "period_fold = 5 #from the primary period of the multiperiodic light curve\n",
    "phase       = np.mod(time, period_fold) / period_fold\n",
    "sort        = np.argsort(phase)\n",
    "mag_phased  = np.array(mag_mp)[sort]\n",
    "phase       = phase[sort]\n",
    "\n",
    "for it, window in enumerate(window_sizes):\n",
    "    \n",
    "    # rolling average\n",
    "    mag_roll   = pd.Series(mag_phased).rolling(window, min_periods=window, win_type='boxcar', center=True, closed='neither').mean()\n",
    "    locals()[f'mag_roll_{window}']   = mag_roll.dropna().values  # Remove NaN values\n",
    "\n",
    "    start_idx  = (window - 1) // 2  # Assuming center=True in rolling window\n",
    "    end_idx    = start_idx + len(locals()[f'mag_roll_{window}'])\n",
    "    locals()[f'phase_roll_{window}'] = phase[start_idx:end_idx]\n",
    "    \n",
    "    \n",
    "    # sav gol filter\n",
    "    mag_sg = savgol_filter(mag_phased, window, 3)\n",
    "    locals()[f'mag_sg_{window}'] = mag_sg[~np.isnan(mag_sg)]  # Remove NaN values\n",
    "\n",
    "    start_idx  = 0  \n",
    "    end_idx    = start_idx + len(mag_roll)\n",
    "    locals()[f'phase_sg_{window}']   = phase[start_idx:end_idx]\n",
    "    \n",
    "    if len(locals()[f'mag_sg_{window}']) > len(locals()[f'phase_sg_{window}']) :\n",
    "        mag_sg = mag_sg[0 : - (len(mag_sg) - len(phase_sg))]\n",
    "        \n",
    "    # medfilt\n",
    "    if window % 2 == 0:\n",
    "        window += 1\n",
    "    mag_mf = medfilt(mag_phased, window)\n",
    "    locals()[f'mag_mf_{window}'] = mag_mf[~np.isnan(mag_mf)]  # Remove NaN values\n",
    "    \n",
    "    end_idx    = start_idx + len(mag_mf)\n",
    "    locals()[f'phase_mf_{window}']   = phase[start_idx:end_idx]\n",
    "    "
   ]
  },
  {
   "cell_type": "code",
   "execution_count": null,
   "metadata": {},
   "outputs": [],
   "source": [
    "fig, axs = plt.subplots(3, 1, figsize=(13, 12), facecolor='white', dpi=150, sharex=True)\n",
    "size     = 5\n",
    "colors = ['cornflowerblue', 'indianred']\n",
    "\n",
    "axs[0].scatter(phase, mag_phased, label='Original Data', c='black', marker='d', s=size, alpha = .7)\n",
    "axs[0].set_title('Rolling average')\n",
    "axs[1].scatter(phase, mag_phased, label='Original Data', c='black', marker='d', s=size, alpha = .7)\n",
    "axs[1].set_title('Median filter')\n",
    "axs[2].scatter(phase, mag_phased, label='Original Data', c='black', marker='d', s=size, alpha = .7)\n",
    "axs[2].set_title('Savitzky-Golay filter')\n",
    "\n",
    "length       = len(mag_phased)\n",
    "\n",
    "for it, window in enumerate(window_sizes):\n",
    "    mag_roll   = locals()[f'mag_roll_{window}']\n",
    "    phase_roll = locals()[f'phase_roll_{window}']\n",
    "    mag_mf     = locals()[f'mag_mf_{window}']\n",
    "    phase_mf   = locals()[f'phase_mf_{window}']\n",
    "    mag_sg     = locals()[f'mag_sg_{window}']\n",
    "    phase_sg   = locals()[f'phase_sg_{window}']\n",
    "    \n",
    "    # Plot rolling average\n",
    "    axs[0].plot(phase_roll, mag_roll, label=f'window_size = {int(100*window/length)} % of phase', color=colors[it], lw = 3)\n",
    "\n",
    "    # Plot Median Filter\n",
    "    axs[1].plot(phase_mf, mag_mf, label=f'window_size = {int(100*window/length)} % of phase', color=colors[it], lw = 3)\n",
    "\n",
    "    # Plot Savitzky-Golay Filter\n",
    "    axs[2].plot(phase_sg, mag_sg, label=f'window_size = {int(100*window/length)} % of phase', color=colors[it], lw = 3)\n",
    "\n",
    "    \n",
    "for ax in axs:\n",
    "    ax.scatter(phase - 1, mag_phased, c='grey', s=7, alpha=0.2)\n",
    "    ax.scatter(phase + 1, mag_phased, c='grey', s=7, alpha=0.2)\n",
    "    ax.axvline(0, c = 'black', ls = '--', lw = .7)\n",
    "    ax.axvline(1, c = 'black', ls = '--', lw = .7)\n",
    "    ax.set_xlim(-0.5, 1.5)\n",
    "    ax.invert_yaxis()\n",
    "    ax.set_ylabel('Magnitude')\n",
    "    ax.legend(loc='upper left')\n",
    "\n",
    "# Set common x-axis label\n",
    "axs[-1].set_xlabel('Phase')"
   ]
  },
  {
   "cell_type": "code",
   "execution_count": null,
   "metadata": {},
   "outputs": [],
   "source": []
  }
 ],
 "metadata": {
  "kernelspec": {
   "display_name": "Python 3 (ipykernel)",
   "language": "python",
   "name": "python3"
  },
  "language_info": {
   "codemirror_mode": {
    "name": "ipython",
    "version": 3
   },
   "file_extension": ".py",
   "mimetype": "text/x-python",
   "name": "python",
   "nbconvert_exporter": "python",
   "pygments_lexer": "ipython3",
   "version": "3.10.9"
  }
 },
 "nbformat": 4,
 "nbformat_minor": 2
}
