{
 "cells": [
  {
   "cell_type": "markdown",
   "metadata": {},
   "source": [
    "## Asymmetry and Periodicity Metrics\n",
    "\n",
    "Last update: 19 Jan 2024\n",
    "\n",
    "**@juliaroquette:** This notebook concentrates research-notes related to the implementation of a Python code for calculating Asymmetry and Periodicity indexes. These variability-indexes have been first introduced by [Cody+2014](https://iopscience.iop.org/article/10.1088/0004-6256/147/4/82) and are used to quantify the degree of symmetry/asymmetry and of stochasticity/periodicity in light-curves of Young Stellar Objects (YSOs). Once calculated for a given light-curve, these indexes can be used to place the star in a QM-diagram (see figure below), threshold of the two indexes can be used for classification purposes and certain regions of the diagram can be associated to physical mechanisms behind the variability processes being observed. The two indexes can also be used as feature in Machine-Learning applications. \n",
    "\n",
    "![QM-space](https://content.cld.iop.org/journals/1538-3881/147/4/82/revision1/aj492147f8_lr.jpg?Expires=1706211409&Signature=ANR2FKG9Mg75LFi2fPfpVfgdKx~z8PajoShKj1l2AKeQaS7K1f2u3SWXaGa4LqunH6og1RjPtGO2lkWOexBJAJEiG64j0h4wd~ixyYf4Nr8VwQk9l9DquV~T277Ff99jEl87zgYt4EXKxq3c5OINEYj99cAAlSblw63r7gNldAk9YQfN3Pb5rOvuKHUYMaksjOP4g3t5ng2UYMFf5R7-McYdvieaI03opfv0aillqBaJ1uSQUjXZGnxbci11Y32e8YdPKemi3PETyYhNtBSFesHEfMU889heezzxGduj44fxEBpEa3dt1ishRlUjaw2tdH7XTJSc2E6VBbZDxNJShw__&Key-Pair-Id=KL1D8TIY3N7T8)\n",
    "\n",
    "\n",
    "**References:** \n",
    "\n",
    "Main previous studies applying the metrics to large samples of YSOs:\n",
    "- `C14`: [Cody+2014](https://iopscience.iop.org/article/10.1088/0004-6256/147/4/82)\n",
    "- `C18`: [Cody+2018](https://iopscience.iop.org/article/10.3847/1538-3881/aacead)\n",
    "- `B20`: [Bredall+2020](https://doi.org/10.1093%2Fmnras%2Fstaa1588)\n",
    "- `C22`: [Cody+2022](https://iopscience.iop.org/article/10.3847/1538-3881/ac5b73)\n",
    "- `H22`: [Hillenbrand+2022](https://iopscience.iop.org/article/10.3847/1538-3881/ac62d8)\n",
    "\n",
    "# Light-Curve\n",
    "\n",
    "A light-curve is written as a series of measurements $m$ with uncertainties $\\sigma$ as a function of time, $t$:\n",
    "\n",
    "- $m_i$ and $\\sigma_i$ are magnitudes and their uncertainties at the time $t_i$. \n",
    "- Alternatively the light-curve can be written in terms of fluxes $f_i$ and their uncertainties. "
   ]
  },
  {
   "cell_type": "code",
   "execution_count": null,
   "metadata": {},
   "outputs": [],
   "source": [
    "import numpy as np\n",
    "import matplotlib.pyplot as plt"
   ]
  },
  {
   "cell_type": "code",
   "execution_count": null,
   "metadata": {},
   "outputs": [],
   "source": [
    "N = 100\n",
    "time = np.linspace(0, 50, N)\n",
    "mag = np.sin(2*np.pi*time/10.) + np.random.random_sample(N)*.5\n",
    "err =  0.001*np.random.random_sample(N)"
   ]
  },
  {
   "cell_type": "code",
   "execution_count": 14,
   "metadata": {},
   "outputs": [
    {
     "data": {
      "text/plain": [
       "<ErrorbarContainer object of 3 artists>"
      ]
     },
     "execution_count": 14,
     "metadata": {},
     "output_type": "execute_result"
    },
    {
     "data": {
      "image/png": "[encoded data removed]",
      "text/plain": [
       "<Figure size 640x480 with 1 Axes>"
      ]
     },
     "metadata": {},
     "output_type": "display_data"
    }
   ],
   "source": [
    "plt.errorbar(time, mag, err, fmt='o', color='black', capsize=3)"
   ]
  },
  {
   "cell_type": "markdown",
   "metadata": {},
   "source": [
    "# M- index: Asymmetry\n",
    "\n",
    "**Context**: Metrics that measures the level of assymetry in the light-curve.\n",
    "\n",
    "$$M=\\frac{<m_{10\\%}>-m_{med}}{\\sigma_m}$$\n",
    "\n",
    "where:\n",
    "- $<m_{10\\%}>$ is all the data in the top and bottom decile of the light-curve. \n",
    "- $\\sigma_m$ is the light-curve's standard deviation\n",
    "\n",
    "This definition sets predominantly brightening light-curves with $M < 0$ and predominantly dimming  with $M > 0$.\n",
    "\n",
    "When using fluxes, one must add a $-1\\times$ to $M$'s definition to preserve the dimming/brightening signal definition. \n",
    "\n",
    "**Note on filtering**: Light-curves must be appropriately pre-filtered. See section on this subject below. \n",
    "\n",
    "**Literature definition variations**\n",
    "\n",
    "- $\\sigma_m$ is sometimes the overall rms (`C14`) of the light-curve and sometimes its standard-deviation (`H22`, `B20`).\n",
    "- Use of deciles: `C18` reports the use of 5/95 percentiles rather than deciles. However, Ann Marie Cody told us in private communication that this might be a typo in the paper as her code `C22` is using 10/90. "
   ]
  },
  {
   "cell_type": "code",
   "execution_count": null,
   "metadata": {},
   "outputs": [],
   "source": [
    "def M_index(mag, per_up=90., per_down=10., is_flux=False):\n",
    "    \"\"\"\n",
    "    Calculate the M-index, which measures the level of asymmetry in the light-curve.\n",
    "    \n",
    "    Parameters:\n",
    "    - mag: array-like, magnitudes of the light-curve\n",
    "    - per_up: float, upper percentile for selecting data in the top decile\n",
    "    - per_down: float, lower percentile for selecting data in the bottom decile\n",
    "    - is_flux: bool, indicates whether the input is flux or magnitude\n",
    "    \n",
    "    Returns:\n",
    "    - M-index: float, the calculated M-index value\n",
    "    \n",
    "    \"\"\"\n",
    "    if bool(is_flux):\n",
    "        to_flux = -1:\n",
    "    else:\n",
    "        to_flux = 1\n",
    "    return to_flux*(np.mean(mag[(mag <= np.percentile(mag, per_down)) | (mag >= np.percentile(mag, per_up))]) - np.median(mag))/np.std(mag)"
   ]
  },
  {
   "cell_type": "markdown",
   "metadata": {},
   "source": [
    "# Q-index: Periodicity\n",
    "\n",
    "**Context**: Metrics that measures the degree of periodicity in the light-curve. \n",
    "\n",
    "$Q = \\frac{\\sigma_\\mathrm{res}^2-\\sigma_\\mathrm{phot}^2}{\\sigma^2_\\mathrm{raw}-\\sigma^2_\\mathrm{phot}}$, \n",
    "\n",
    "where:\n",
    "- $\\sigma_\\mathrm{res}^2$ and $\\sigma^2_\\mathrm{raw}$ are the variance values of the raw light curve and the phase-subtracted light curve.\n",
    "- $\\sigma_\\mathrm{raw}^2$ is the variance of the original light-curve\n",
    "- $\\sigma_\\mathrm{phot}$ is the mean photometric error"
   ]
  },
  {
   "cell_type": "code",
   "execution_count": 15,
   "metadata": {},
   "outputs": [],
   "source": [
    "def Q_index(mag_phased, residual_mag, err_phased):\n",
    "        \"\"\"\n",
    "        Calculates the Q-index which measures the level of periodicity in the light-curve.\n",
    "\n",
    "        Parameters:\n",
    "        mag_phased (array-like): Array of phase-folded magnitudes for the \"raw\" light-curve.\n",
    "        residual_mag (array-like): Array of phase-folded residual magnitudes after waveform-subtraction\n",
    "        err_phased (array-like): Array of errors for the phase-folded light-curve.\n",
    "\n",
    "        Returns:\n",
    "        - Q-index float: The calculated Q-index.\n",
    "\n",
    "        \"\"\"\n",
    "        return (np.std(residual_mag)**2 - np.mean(err_phased)**2)/(np.std(mag_phased)**2 - np.mean(err_phased)**2)"
   ]
  },
  {
   "cell_type": "markdown",
   "metadata": {},
   "source": [
    "Before plugging-in values in Q, a few extra steps are required:\n",
    "\n",
    "1. Definition of $m_{raw}$: This is the original \"raw\" light-curve. This light-curve is called raw, but it has been already filtered for any needs deemed necessary by authors as pre-filtering before a period-search technique is applied. There is a lot of variation in what this filtering entails, hence see Filtering section below. Typical filtering will include $5-\\sigma$-clipping and de-trending for variability at longer timescales than resolved by the light-curve. For high-cadence light-curves filtering may also include a short-timescale filtering that helps focusing the period-search step.\n",
    "2. $\\sigma_\\mathrm{raw}^2$ is the variance of the light-curve in 1. \n",
    "3. $\\sigma_\\mathrm{phot}$ is the typical photometric error in the light-curve. In general, this is a simple average of the uncertainties in the light-curve, considering the $\\sigma_i$s of all datapoints left in the filtered light-curve in step 1. However, a few studies derive a typical uncertainty value by looking at rms vs magnitude distributions for samples of less-variable stars in their survey (`C14`, `C18`, `C22`). This seems to be more common for CoRoT and K2 data though. \n",
    "4. Residual light-curve: This is the most important step for calculating Q. \n",
    "\n",
    "    4.1 A period-search technique is applied to $m_{raw}$ to find the dominant period, P. When no period is found, a \"aperiodic timescale\" must be defined instead. (see further discussion in the session below.)\n",
    "\n",
    "    4.2 $m_{raw}$ is phase-folded to this period or timescale and some filtering is used to estimate a phase-folded waveform. (See Waveform estimation Section below)\n",
    "\n",
    "    4.3 A residual light-curve, $m_{res}$ is defined by subtracting the waveform from the folded $m_{raw}$. A few authors do this by repeating the waveform over the length of the light-curve, but I don't think it makes a difference in the final $\\sigma_\\mathrm{res}$ to estimate it from the folded or from the regular light-curve. \n",
    "\n",
    "    4.4 $\\sigma_\\mathrm{res}$ is calculated from the residual light-curve ($m_{res}$)"
   ]
  }
 ],
 "metadata": {
  "kernelspec": {
   "display_name": "NEMESIS",
   "language": "python",
   "name": "python3"
  },
  "language_info": {
   "codemirror_mode": {
    "name": "ipython",
    "version": 3
   },
   "file_extension": ".py",
   "mimetype": "text/x-python",
   "name": "python",
   "nbconvert_exporter": "python",
   "pygments_lexer": "ipython3",
   "version": "3.10.13"
  }
 },
 "nbformat": 4,
 "nbformat_minor": 2
}
