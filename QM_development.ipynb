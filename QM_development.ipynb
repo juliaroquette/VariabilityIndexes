{
 "cells": [
  {
   "cell_type": "markdown",
   "metadata": {},
   "source": [
    "## Asymmetry and Periodicity Metrics\n",
    "\n",
    "Last update: 19 Jan 2024\n",
    "\n",
    "**@juliaroquette** This notebook concentrates on the implementation of the a Python code for calculating the Assymetry and Periodicity indexes from Cody+.\n",
    "\n",
    "**References**\n",
    "- `C14`: [Cody+2014](https://iopscience.iop.org/article/10.1088/0004-6256/147/4/82)\n",
    "- `C18`: [Cody+2018](https://iopscience.iop.org/article/10.3847/1538-3881/aacead)\n",
    "- `B20`: [Bredall+2020](https://doi.org/10.1093%2Fmnras%2Fstaa1588)\n",
    "- `C22`: [Cody+2022](https://iopscience.iop.org/article/10.3847/1538-3881/ac5b73)\n",
    "- `H22`: [Hillenbrand+2022](https://iopscience.iop.org/article/10.3847/1538-3881/ac62d8)\n",
    "\n",
    "![](https://content.cld.iop.org/journals/1538-3881/147/4/82/revision1/aj492147f8_lr.jpg?Expires=1706211409&Signature=ANR2FKG9Mg75LFi2fPfpVfgdKx~z8PajoShKj1l2AKeQaS7K1f2u3SWXaGa4LqunH6og1RjPtGO2lkWOexBJAJEiG64j0h4wd~ixyYf4Nr8VwQk9l9DquV~T277Ff99jEl87zgYt4EXKxq3c5OINEYj99cAAlSblw63r7gNldAk9YQfN3Pb5rOvuKHUYMaksjOP4g3t5ng2UYMFf5R7-McYdvieaI03opfv0aillqBaJ1uSQUjXZGnxbci11Y32e8YdPKemi3PETyYhNtBSFesHEfMU889heezzxGduj44fxEBpEa3dt1ishRlUjaw2tdH7XTJSc2E6VBbZDxNJShw__&Key-Pair-Id=KL1D8TIY3N7T8)\n",
    "\n",
    "\n",
    "flux vs mag:\n",
    "\n",
    "- `C14`: magnitude\n",
    "- `C18`: flux\n",
    "- `B20`: \n",
    "- `C22`: flux\n",
    "- `H22`: "
   ]
  },
  {
   "cell_type": "code",
   "execution_count": 2,
   "metadata": {},
   "outputs": [],
   "source": [
    "import numpy as np\n",
    "import matplotlib.pyplot as plt"
   ]
  },
  {
   "cell_type": "code",
   "execution_count": 5,
   "metadata": {},
   "outputs": [],
   "source": [
    "N = 100\n",
    "time = np.linspace(0, 50, N)\n",
    "mag = np.sin(2*np.pi*time/10.) + np.random.random_sample(N)*.5\n",
    "err =  0.001*np.random.random_sample(N)\n",
    "mask = np.where(np.isfinite(mag))[0]"
   ]
  },
  {
   "cell_type": "code",
   "execution_count": 6,
   "metadata": {},
   "outputs": [
    {
     "data": {
      "text/plain": [
       "[<matplotlib.lines.Line2D at 0x11fb435b0>]"
      ]
     },
     "execution_count": 6,
     "metadata": {},
     "output_type": "execute_result"
    },
    {
     "data": {
      "image/png": "[encoded data removed]",
      "text/plain": [
       "<Figure size 640x480 with 1 Axes>"
      ]
     },
     "metadata": {},
     "output_type": "display_data"
    }
   ],
   "source": [
    "plt.plot(time[mask], mag[mask], 'k.')"
   ]
  },
  {
   "cell_type": "markdown",
   "metadata": {},
   "source": [
    "# Filtering\n",
    "\n",
    "## General\n",
    "- `C14`: \n",
    "- `C18`: \n",
    "- `B20`: \"remove the top and bottom 1 per cent of detections to clip potential outliers.\"\n",
    "- `C22`: \n",
    "- `H22`: \n",
    "\n",
    "\n",
    "## For M-index\n",
    "\n",
    "- `C14`: 2h-timescale filtering + 5$\\sigma$-clipping -> remove outliers, than go back to the un-filtered lc but without outliers. \"removed trends on longer timescales than 15-20 days by subtracting out a smoothed version of the light curve before computing M.\"\n",
    "- `C18`: \n",
    "- `B20`: \n",
    "- `C22`: \n",
    "- `H22`: \n",
    "\n",
    "\n",
    "## For Q-index\n",
    "\n",
    "- `C14`: by subtracting a boxcar-smoothed version with a window of 10 days.\n",
    "- `C18`: \n",
    "- `B20`: \n",
    "- `C22`: \n",
    "- `H22`: \n"
   ]
  },
  {
   "cell_type": "markdown",
   "metadata": {},
   "source": [
    "# Period Search and Aperiodic Timescales\n",
    "\n",
    "- `C14`: ACF + FFT around ACF peak + Peak-find for aperiodic timescale\n",
    "- `C18`: \n",
    "- `B20`: \n",
    "- `C22`: \n",
    "- `H22`: \n"
   ]
  },
  {
   "cell_type": "markdown",
   "metadata": {},
   "source": [
    "# M- index: Asymmetry\n",
    "\n",
    "$$M=\\frac{<m_{10\\%}>-m_{med}}{\\sigma_m}$$\n",
    "\n",
    "$<m_{10\\%}>$ is all the data in the top and bottom decile of the light-curve. \n",
    "Not that there are conflicting definitions in the literature, where $\\sigma_m$ is sometimes the overall rms of the light-curve and sometimes its standard-deviation! Here I am using the second one. \n",
    "\n",
    "The 10% percentile choice also changes in some paper, as some authors prefer a 20%. \n",
    "\n",
    "- `C14`: $\\sigma_m$  is the overall rms. 10/90 percentiles\n",
    "- `C18`: 5/95 percentiles\n",
    "- `B20`: 10/90 percentiles. $\\sigma_m$  is the standard deviation. \n",
    "- `C22`: same as `C18`\n",
    "- `H22`: $\\sigma_m$  is the standard deviation. 10/90 percentiles\n"
   ]
  },
  {
   "cell_type": "code",
   "execution_count": 7,
   "metadata": {},
   "outputs": [],
   "source": [
    "def M_index(mag, per_up=90, per_down=10):\n",
    "    return (np.mean(mag[(mag <= np.percentile(mag, per_down)) | (mag >= np.percentile(mag, per_up))]) - np.median(mag))/np.std(mag)"
   ]
  },
  {
   "cell_type": "markdown",
   "metadata": {},
   "source": [
    "# Q-index from Cody+14 -> Periodicity\n",
    "\n",
    "$Q = \\frac{\\sigma_\\mathrm{res}^2-\\sigma_\\mathrm{phot}^2}{\\sigma^2_\\mathrm{raw}-\\sigma^2_\\mathrm{phot}}$, \n",
    "\n",
    "where:\n",
    "- $\\sigma_\\mathrm{res}^2$ and $\\sigma^2_\\mathrm{raw}$ are the ~rms~ variance values of the raw light curve and the phase-subtracted light curve.\n",
    "- $\\sigma_\\mathrm{raw}^2$ is the variance of the original light-curve\n",
    "- $\\sigma_\\mathrm{phot}$ is the mean photometric error\n",
    "\n",
    "\n",
    "- `C14`: \n",
    "- `C18`: \n",
    "- `B20`: \n",
    "- `C22`: \n",
    "- `H22`: "
   ]
  },
  {
   "cell_type": "code",
   "execution_count": null,
   "metadata": {},
   "outputs": [],
   "source": []
  },
  {
   "cell_type": "markdown",
   "metadata": {},
   "source": []
  }
 ],
 "metadata": {
  "kernelspec": {
   "display_name": "NEMESIS",
   "language": "python",
   "name": "python3"
  },
  "language_info": {
   "codemirror_mode": {
    "name": "ipython",
    "version": 3
   },
   "file_extension": ".py",
   "mimetype": "text/x-python",
   "name": "python",
   "nbconvert_exporter": "python",
   "pygments_lexer": "ipython3",
   "version": "3.10.13"
  }
 },
 "nbformat": 4,
 "nbformat_minor": 2
}
